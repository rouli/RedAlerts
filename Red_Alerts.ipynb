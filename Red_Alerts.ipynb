{
 "metadata": {
  "name": ""
 },
 "nbformat": 3,
 "nbformat_minor": 0,
 "worksheets": [
  {
   "cells": [
    {
     "cell_type": "heading",
     "level": 1,
     "metadata": {},
     "source": [
      "Quick Analysis of Hamas Rocket Attacks"
     ]
    },
    {
     "cell_type": "markdown",
     "metadata": {},
     "source": [
      "During the [Israel-Hamas summer of 2014 military clash](http://en.wikipedia.org/wiki/Operation_Protective_Edge) (also known as operation Protective Edge), Hamas carried [thousands of rocket attacks](https://docs.google.com/spreadsheets/d/1AqLhz84lMCcvopizH52MPKb8gsbLEuBF7U2rk51tFXw/edit#gid=0) on Israeli cities and towns. Luckily, Tel Aviv, the city were I live, was relatively spared, with about one or two rocket attacks per day. This allowed me and a few others to notice a strange patterns in those attacks. It seemed that those attack, and the air-raid sirens that preceded them, were more prone to happen at the top of the hour. We came with two explanations for it:\n",
      "\n",
      "* Hamas wanted to fire many missiles at the same time (one reason to do so - to overwhelm Israel's anti-rocket system [Iron Dome](http://en.wikipedia.org/wiki/Iron_Dome)). Synchronizing the attacks to happen at the top of the hour was, for some reason or another, easier for Hamas militants.\n",
      "* Hamas hoped to attack Israel during a shift-rotation among the soldiers that operate the Iron Dome batteries, and thus making it less likely that its rocket are shot down.\n",
      "\n",
      "We will probably never know what's the true reason for that pattern to emerge, but can we show that it exists in the first place, rather than leave it to some intuition? Thankfully, there are many services, apps and Twitter accounts that report and log every rocket attack. I pulled the data from one such Twitter account, [@Alarmdarom](https://twitter.com/Alarmdarom), and below I clean it up, and show that indeed the pattern exist, and moreover, it seems like __Hamas' clocks are running 4 minutes fast__."
     ]
    },
    {
     "cell_type": "code",
     "collapsed": false,
     "input": [
      "import numpy as np\n",
      "import pandas as pd\n",
      "from matplotlib import pyplot as plt\n",
      "from numpy import round, log, diff\n",
      "import itertools\n",
      "from collections import Counter, defaultdict\n",
      "import time\n",
      "import scipy\n",
      "import dateutil\n",
      "import re"
     ],
     "language": "python",
     "metadata": {},
     "outputs": [],
     "prompt_number": 187
    },
    {
     "cell_type": "heading",
     "level": 3,
     "metadata": {},
     "source": [
      "Reading the data"
     ]
    },
    {
     "cell_type": "code",
     "collapsed": false,
     "input": [
      "def parse_timestamp(line):\n",
      "    # 'Date: Sat Jul 26 04:34:09 +0000 2014\\n'\n",
      "    line = line[6:].strip()\n",
      "    return dateutil.parser.parse(line)\n",
      "\n",
      "def parse_alarm(line):\n",
      "    # Alarm Ashkelon, Beer Ganim, Nitzan, Nitzanim 09:19:31\n",
      "    \n",
      "    # Alarm Gan Sorek, Netaim, Rishon Lezion, Givat Brenner, Gibbethon, Gan Shlomo, Netzer Sereni, Rehovot, Gealya,... http://t.co/IkJc3yIsyr\n",
      "    line = line.strip()[6:]\n",
      "    if re.search(\"\\d{1,2}:\\d{1,2}(:\\d{1,2})?$\", line):\n",
      "        line = re.sub(\"\\d{1,2}:\\d{1,2}(:\\d{1,2})?$\", \"\", line)\n",
      "    elif re.search(\"http://t.co/\\w+$\", line):\n",
      "        line = re.sub(\"       tgithttp://t.co/\\w+$\", \"\", line)\n",
      "    else:\n",
      "        raise ValueError(line)\n",
      "    locations = [loc.strip().lower() for loc in line.split(',') if loc.strip()]\n",
      "    return locations"
     ],
     "language": "python",
     "metadata": {},
     "outputs": [],
     "prompt_number": 104
    },
    {
     "cell_type": "code",
     "collapsed": false,
     "input": [
      "def read_file(filename):\n",
      "    result = []\n",
      "    for line in open(filename):\n",
      "        if line.strip().startswith('Date:'):\n",
      "            date = parse_timestamp(line)\n",
      "        elif line.strip().startswith('Alarm '):\n",
      "            locations = parse_alarm(line)\n",
      "            result.append((date, locations))\n",
      "    return pd.DataFrame(data=result, columns=['datetime', 'locations'])"
     ],
     "language": "python",
     "metadata": {},
     "outputs": [],
     "prompt_number": 122
    },
    {
     "cell_type": "code",
     "collapsed": false,
     "input": [
      "alarms = read_file(\"/home/rouli/data/redalert.txt\")"
     ],
     "language": "python",
     "metadata": {},
     "outputs": [],
     "prompt_number": 123
    },
    {
     "cell_type": "code",
     "collapsed": false,
     "input": [
      "alarms['date'] = alarms.datetime.apply(lambda x:x.date())\n",
      "alarms['time'] = alarms.datetime.apply(lambda x:x.time())\n",
      "alarms['minute'] = alarms.time.apply(lambda x:x.minute)"
     ],
     "language": "python",
     "metadata": {},
     "outputs": [],
     "prompt_number": 132
    },
    {
     "cell_type": "code",
     "collapsed": false,
     "input": [
      "alarms=alarms[alarms.date>datetime.date(2014,7,8)]"
     ],
     "language": "python",
     "metadata": {},
     "outputs": [],
     "prompt_number": 145
    },
    {
     "cell_type": "code",
     "collapsed": false,
     "input": [
      "alarms.minute.hist(bins=60)"
     ],
     "language": "python",
     "metadata": {},
     "outputs": [
      {
       "metadata": {},
       "output_type": "pyout",
       "prompt_number": 146,
       "text": [
        "<matplotlib.axes.AxesSubplot at 0x45b6890>"
       ]
      },
      {
       "metadata": {},
       "output_type": "display_data",
       "png": "[encoded data removed]",
       "text": [
        "<matplotlib.figure.Figure at 0x43cf190>"
       ]
      }
     ],
     "prompt_number": 146
    },
    {
     "cell_type": "markdown",
     "metadata": {},
     "source": [
      "### Cleaning the data\n",
      "Looking at the data, one can immediately see rokcet-fire \"events\". These consists of several consecutive rocket attacks, which can all be thought of as one inseperatable event. In order to avoid counting each event several times, in the next step I clean the data a bit, by removing any rocket attack that followed another attack within five minutes."
     ]
    },
    {
     "cell_type": "code",
     "collapsed": false,
     "input": [
      "alarms['delta']=alarms.datetime-alarms.datetime.shift(-1)\n",
      "alarms.dropna(inplace=True)"
     ],
     "language": "python",
     "metadata": {},
     "outputs": [],
     "prompt_number": 210
    },
    {
     "cell_type": "code",
     "collapsed": false,
     "input": [
      "unique_alarms = alarms[alarms.delta>np.timedelta64(5,'m')]"
     ],
     "language": "python",
     "metadata": {},
     "outputs": [],
     "prompt_number": 211
    },
    {
     "cell_type": "code",
     "collapsed": false,
     "input": [
      "len(alarms), len(unique_alarms)"
     ],
     "language": "python",
     "metadata": {},
     "outputs": [
      {
       "metadata": {},
       "output_type": "pyout",
       "prompt_number": 212,
       "text": [
        "(1628, 608)"
       ]
      }
     ],
     "prompt_number": 212
    },
    {
     "cell_type": "markdown",
     "metadata": {},
     "source": [
      "I think the following histogram really shows that our intuition was correct - rocket attacks are much more likely to start on the 56 minutes mark. It's almost __5 times the standard deviation__ from the mean."
     ]
    },
    {
     "cell_type": "code",
     "collapsed": false,
     "input": [
      "unique_alarms.minute.hist(bins=60)\n",
      "plt.title('Number of rocket attacks per given minute')"
     ],
     "language": "python",
     "metadata": {},
     "outputs": [
      {
       "metadata": {},
       "output_type": "pyout",
       "prompt_number": 233,
       "text": [
        "<matplotlib.text.Text at 0x5b0a050>"
       ]
      },
      {
       "metadata": {},
       "output_type": "display_data",
       "png": "[encoded data removed]",
       "text": [
        "<matplotlib.figure.Figure at 0x58d8410>"
       ]
      }
     ],
     "prompt_number": 233
    },
    {
     "cell_type": "code",
     "collapsed": false,
     "input": [
      "hist = unique_alarms.minute.value_counts()"
     ],
     "language": "python",
     "metadata": {},
     "outputs": [],
     "prompt_number": 214
    },
    {
     "cell_type": "code",
     "collapsed": false,
     "input": [
      "hist.mean()"
     ],
     "language": "python",
     "metadata": {},
     "outputs": [
      {
       "metadata": {},
       "output_type": "pyout",
       "prompt_number": 215,
       "text": [
        "10.133333333333333"
       ]
      }
     ],
     "prompt_number": 215
    },
    {
     "cell_type": "code",
     "collapsed": false,
     "input": [
      "hist.std()"
     ],
     "language": "python",
     "metadata": {},
     "outputs": [
      {
       "metadata": {},
       "output_type": "pyout",
       "prompt_number": 216,
       "text": [
        "3.8552920558834707"
       ]
      }
     ],
     "prompt_number": 216
    },
    {
     "cell_type": "code",
     "collapsed": false,
     "input": [
      "(hist[56]-hist.mean())/hist.std()"
     ],
     "language": "python",
     "metadata": {},
     "outputs": [
      {
       "metadata": {},
       "output_type": "pyout",
       "prompt_number": 217,
       "text": [
        "4.8937062077760594"
       ]
      }
     ],
     "prompt_number": 217
    }
   ],
   "metadata": {}
  }
 ]
}