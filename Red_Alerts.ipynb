{
 "metadata": {
  "name": ""
 },
 "nbformat": 3,
 "nbformat_minor": 0,
 "worksheets": [
  {
   "cells": [
    {
     "cell_type": "code",
     "collapsed": false,
     "input": [
      "import numpy as np\n",
      "import pandas as pd\n",
      "from matplotlib import pyplot as plt\n",
      "from numpy import round, log, diff\n",
      "import itertools\n",
      "from collections import Counter, defaultdict\n",
      "import time\n",
      "import scipy\n",
      "import dateutil\n",
      "import re"
     ],
     "language": "python",
     "metadata": {},
     "outputs": [],
     "prompt_number": 187
    },
    {
     "cell_type": "code",
     "collapsed": false,
     "input": [
      "def parse_timestamp(line):\n",
      "    # 'Date: Sat Jul 26 04:34:09 +0000 2014\\n'\n",
      "    line = line[6:].strip()\n",
      "    return dateutil.parser.parse(line)\n",
      "\n",
      "def parse_alarm(line):\n",
      "    # Alarm Ashkelon, Beer Ganim, Nitzan, Nitzanim 09:19:31\n",
      "    \n",
      "    # Alarm Gan Sorek, Netaim, Rishon Lezion, Givat Brenner, Gibbethon, Gan Shlomo, Netzer Sereni, Rehovot, Gealya,... http://t.co/IkJc3yIsyr\n",
      "    line = line.strip()[6:]\n",
      "    if re.search(\"\\d{1,2}:\\d{1,2}(:\\d{1,2})?$\", line):\n",
      "        line = re.sub(\"\\d{1,2}:\\d{1,2}(:\\d{1,2})?$\", \"\", line)\n",
      "    elif re.search(\"http://t.co/\\w+$\", line):\n",
      "        line = re.sub(\"       tgithttp://t.co/\\w+$\", \"\", line)\n",
      "    else:\n",
      "        raise ValueError(line)\n",
      "    locations = [loc.strip().lower() for loc in line.split(',') if loc.strip()]\n",
      "    return locations"
     ],
     "language": "python",
     "metadata": {},
     "outputs": [],
     "prompt_number": 104
    },
    {
     "cell_type": "code",
     "collapsed": false,
     "input": [
      "def read_file(filename):\n",
      "    result = []\n",
      "    for line in open(filename):\n",
      "        if line.strip().startswith('Date:'):\n",
      "            date = parse_timestamp(line)\n",
      "        elif line.strip().startswith('Alarm '):\n",
      "            locations = parse_alarm(line)\n",
      "            result.append((date, locations))\n",
      "    return pd.DataFrame(data=result, columns=['datetime', 'locations'])"
     ],
     "language": "python",
     "metadata": {},
     "outputs": [],
     "prompt_number": 122
    },
    {
     "cell_type": "code",
     "collapsed": false,
     "input": [
      "alarms = read_file(\"/home/rouli/data/redalert.txt\")"
     ],
     "language": "python",
     "metadata": {},
     "outputs": [],
     "prompt_number": 123
    },
    {
     "cell_type": "code",
     "collapsed": false,
     "input": [
      "alarms['date'] = alarms.datetime.apply(lambda x:x.date())\n",
      "alarms['time'] = alarms.datetime.apply(lambda x:x.time())\n",
      "alarms['minute'] = alarms.time.apply(lambda x:x.minute)"
     ],
     "language": "python",
     "metadata": {},
     "outputs": [],
     "prompt_number": 132
    },
    {
     "cell_type": "code",
     "collapsed": false,
     "input": [
      "alarms=alarms[alarms.date>datetime.date(2014,7,8)]"
     ],
     "language": "python",
     "metadata": {},
     "outputs": [],
     "prompt_number": 145
    },
    {
     "cell_type": "code",
     "collapsed": false,
     "input": [
      "alarms.minute.hist(bins=60)"
     ],
     "language": "python",
     "metadata": {},
     "outputs": [
      {
       "metadata": {},
       "output_type": "pyout",
       "prompt_number": 146,
       "text": [
        "<matplotlib.axes.AxesSubplot at 0x45b6890>"
       ]
      },
      {
       "metadata": {},
       "output_type": "display_data",
       "png": "[encoded data removed]",
       "text": [
        "<matplotlib.figure.Figure at 0x43cf190>"
       ]
      }
     ],
     "prompt_number": 146
    },
    {
     "cell_type": "code",
     "collapsed": false,
     "input": [
      "alarms['delta']=alarms.datetime-alarms.datetime.shift(-1)"
     ],
     "language": "python",
     "metadata": {},
     "outputs": [],
     "prompt_number": 166
    },
    {
     "cell_type": "code",
     "collapsed": false,
     "input": [
      "unique_alarms = alarms[alarms.delta>np.timedelta64(5,'m')]"
     ],
     "language": "python",
     "metadata": {},
     "outputs": [],
     "prompt_number": 174
    },
    {
     "cell_type": "code",
     "collapsed": false,
     "input": [
      "len(alarms), len(unique_alarms)"
     ],
     "language": "python",
     "metadata": {},
     "outputs": [
      {
       "metadata": {},
       "output_type": "pyout",
       "prompt_number": 175,
       "text": [
        "(1629, 608)"
       ]
      }
     ],
     "prompt_number": 175
    },
    {
     "cell_type": "code",
     "collapsed": false,
     "input": [
      "unique_alarms.minute.hist(bins=60)"
     ],
     "language": "python",
     "metadata": {},
     "outputs": [
      {
       "metadata": {},
       "output_type": "pyout",
       "prompt_number": 176,
       "text": [
        "<matplotlib.axes.AxesSubplot at 0x49a7ad0>"
       ]
      },
      {
       "metadata": {},
       "output_type": "display_data",
       "png": "[encoded data removed]",
       "text": [
        "<matplotlib.figure.Figure at 0x49a1450>"
       ]
      }
     ],
     "prompt_number": 176
    },
    {
     "cell_type": "code",
     "collapsed": false,
     "input": [
      "hist=unique_alarms.minute.value_counts()"
     ],
     "language": "python",
     "metadata": {},
     "outputs": [],
     "prompt_number": 178
    },
    {
     "cell_type": "code",
     "collapsed": false,
     "input": [
      "hist.head()"
     ],
     "language": "python",
     "metadata": {},
     "outputs": [
      {
       "metadata": {},
       "output_type": "pyout",
       "prompt_number": 179,
       "text": [
        "56    29\n",
        "17    20\n",
        "55    16\n",
        "1     16\n",
        "57    15\n",
        "dtype: int64"
       ]
      }
     ],
     "prompt_number": 179
    },
    {
     "cell_type": "code",
     "collapsed": false,
     "input": [
      "hist.mean()"
     ],
     "language": "python",
     "metadata": {},
     "outputs": [
      {
       "metadata": {},
       "output_type": "pyout",
       "prompt_number": 180,
       "text": [
        "10.133333333333333"
       ]
      }
     ],
     "prompt_number": 180
    },
    {
     "cell_type": "code",
     "collapsed": false,
     "input": [
      "hist.std()"
     ],
     "language": "python",
     "metadata": {},
     "outputs": [
      {
       "metadata": {},
       "output_type": "pyout",
       "prompt_number": 181,
       "text": [
        "3.8552920558834707"
       ]
      }
     ],
     "prompt_number": 181
    },
    {
     "cell_type": "code",
     "collapsed": false,
     "input": [
      "(hist[56]-hist.mean())/hist.std()"
     ],
     "language": "python",
     "metadata": {},
     "outputs": [
      {
       "metadata": {},
       "output_type": "pyout",
       "prompt_number": 183,
       "text": [
        "4.8937062077760594"
       ]
      }
     ],
     "prompt_number": 183
    },
    {
     "cell_type": "code",
     "collapsed": false,
     "input": [],
     "language": "python",
     "metadata": {},
     "outputs": []
    }
   ],
   "metadata": {}
  }
 ]
}